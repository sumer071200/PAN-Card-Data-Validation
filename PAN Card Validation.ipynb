{
 "cells": [
  {
   "cell_type": "code",
   "execution_count": 1,
   "id": "44f4a828-2326-4fe3-b8ce-b7a6d0af6fa0",
   "metadata": {},
   "outputs": [],
   "source": [
    "# Import Libraries\n",
    "import pandas as pd\n",
    "import re"
   ]
  },
  {
   "cell_type": "code",
   "execution_count": 2,
   "id": "fcc63e4c-3814-4155-9849-dd1614a6cba5",
   "metadata": {},
   "outputs": [],
   "source": [
    "#Load Dataset\n",
    "df = pd.read_excel('PAN Dataset.xlsx')"
   ]
  },
  {
   "cell_type": "code",
   "execution_count": 3,
   "id": "b0999cb7-ea6e-42b4-b2bb-8da110481ef7",
   "metadata": {},
   "outputs": [
    {
     "name": "stdout",
     "output_type": "stream",
     "text": [
      "  Pan_Numbers\n",
      "0  VGLOD3180G\n",
      "1  PHOXD7232L\n",
      "2  MGEPH6532A\n",
      "3  JJCHK4574O\n",
      "4  XTQIJ2330L\n"
     ]
    }
   ],
   "source": [
    "print(df.head())"
   ]
  },
  {
   "cell_type": "code",
   "execution_count": 7,
   "id": "29e5465a-6436-48f1-a4b2-6f0dea2109de",
   "metadata": {},
   "outputs": [
    {
     "name": "stdout",
     "output_type": "stream",
     "text": [
      "(10000, 1)\n"
     ]
    }
   ],
   "source": [
    "print(df.shape)"
   ]
  },
  {
   "cell_type": "code",
   "execution_count": 9,
   "id": "ab3c77e2-2167-4629-880f-d3db3eeadd97",
   "metadata": {},
   "outputs": [],
   "source": [
    "total_records = len(df)"
   ]
  },
  {
   "cell_type": "code",
   "execution_count": 11,
   "id": "ad4bff65-33ee-42e3-9ccb-3e61290de65a",
   "metadata": {},
   "outputs": [
    {
     "name": "stdout",
     "output_type": "stream",
     "text": [
      "<class 'pandas.core.frame.DataFrame'>\n",
      "RangeIndex: 10000 entries, 0 to 9999\n",
      "Data columns (total 1 columns):\n",
      " #   Column       Non-Null Count  Dtype \n",
      "---  ------       --------------  ----- \n",
      " 0   Pan_Numbers  9035 non-null   object\n",
      "dtypes: object(1)\n",
      "memory usage: 78.3+ KB\n"
     ]
    }
   ],
   "source": [
    "df.info()"
   ]
  },
  {
   "cell_type": "code",
   "execution_count": 13,
   "id": "5a189042-044e-4fbe-a4df-1a9388911bdd",
   "metadata": {},
   "outputs": [],
   "source": [
    "# Data Cleaning"
   ]
  },
  {
   "cell_type": "code",
   "execution_count": 15,
   "id": "a665b458-6de4-42b0-b46d-2960af4c7e3e",
   "metadata": {},
   "outputs": [],
   "source": [
    "df['Pan_Numbers'] = df['Pan_Numbers'].str.strip().str.upper()"
   ]
  },
  {
   "cell_type": "code",
   "execution_count": 17,
   "id": "7e6a2690-8c2d-4bc4-84bc-6a3b58f004a6",
   "metadata": {},
   "outputs": [
    {
     "data": {
      "text/html": [
       "<div>\n",
       "<style scoped>\n",
       "    .dataframe tbody tr th:only-of-type {\n",
       "        vertical-align: middle;\n",
       "    }\n",
       "\n",
       "    .dataframe tbody tr th {\n",
       "        vertical-align: top;\n",
       "    }\n",
       "\n",
       "    .dataframe thead th {\n",
       "        text-align: right;\n",
       "    }\n",
       "</style>\n",
       "<table border=\"1\" class=\"dataframe\">\n",
       "  <thead>\n",
       "    <tr style=\"text-align: right;\">\n",
       "      <th></th>\n",
       "      <th>Pan_Numbers</th>\n",
       "    </tr>\n",
       "  </thead>\n",
       "  <tbody>\n",
       "    <tr>\n",
       "      <th>0</th>\n",
       "      <td>VGLOD3180G</td>\n",
       "    </tr>\n",
       "    <tr>\n",
       "      <th>1</th>\n",
       "      <td>PHOXD7232L</td>\n",
       "    </tr>\n",
       "    <tr>\n",
       "      <th>2</th>\n",
       "      <td>MGEPH6532A</td>\n",
       "    </tr>\n",
       "    <tr>\n",
       "      <th>3</th>\n",
       "      <td>JJCHK4574O</td>\n",
       "    </tr>\n",
       "    <tr>\n",
       "      <th>4</th>\n",
       "      <td>XTQIJ2330L</td>\n",
       "    </tr>\n",
       "  </tbody>\n",
       "</table>\n",
       "</div>"
      ],
      "text/plain": [
       "  Pan_Numbers\n",
       "0  VGLOD3180G\n",
       "1  PHOXD7232L\n",
       "2  MGEPH6532A\n",
       "3  JJCHK4574O\n",
       "4  XTQIJ2330L"
      ]
     },
     "execution_count": 17,
     "metadata": {},
     "output_type": "execute_result"
    }
   ],
   "source": [
    "df.head()"
   ]
  },
  {
   "cell_type": "code",
   "execution_count": 19,
   "id": "2306ffa5-02af-48f8-b2ae-ba4ff7c58a89",
   "metadata": {},
   "outputs": [
    {
     "data": {
      "text/html": [
       "<div>\n",
       "<style scoped>\n",
       "    .dataframe tbody tr th:only-of-type {\n",
       "        vertical-align: middle;\n",
       "    }\n",
       "\n",
       "    .dataframe tbody tr th {\n",
       "        vertical-align: top;\n",
       "    }\n",
       "\n",
       "    .dataframe thead th {\n",
       "        text-align: right;\n",
       "    }\n",
       "</style>\n",
       "<table border=\"1\" class=\"dataframe\">\n",
       "  <thead>\n",
       "    <tr style=\"text-align: right;\">\n",
       "      <th></th>\n",
       "      <th>Pan_Numbers</th>\n",
       "    </tr>\n",
       "  </thead>\n",
       "  <tbody>\n",
       "    <tr>\n",
       "      <th>5019</th>\n",
       "      <td></td>\n",
       "    </tr>\n",
       "    <tr>\n",
       "      <th>5020</th>\n",
       "      <td></td>\n",
       "    </tr>\n",
       "  </tbody>\n",
       "</table>\n",
       "</div>"
      ],
      "text/plain": [
       "     Pan_Numbers\n",
       "5019            \n",
       "5020            "
      ]
     },
     "execution_count": 19,
     "metadata": {},
     "output_type": "execute_result"
    }
   ],
   "source": [
    "df[df['Pan_Numbers'] == '']"
   ]
  },
  {
   "cell_type": "code",
   "execution_count": 21,
   "id": "6af3c915-51d9-4910-94ff-69a7840fcab9",
   "metadata": {},
   "outputs": [
    {
     "data": {
      "text/plain": [
       "965"
      ]
     },
     "execution_count": 21,
     "metadata": {},
     "output_type": "execute_result"
    }
   ],
   "source": [
    "df['Pan_Numbers'].isna().sum()"
   ]
  },
  {
   "cell_type": "code",
   "execution_count": 23,
   "id": "70b8bf3d-dad8-4880-85d2-5a8c9236d143",
   "metadata": {},
   "outputs": [],
   "source": [
    "df = df.replace({'Pan_Numbers', ''}, pd.NA)"
   ]
  },
  {
   "cell_type": "code",
   "execution_count": 25,
   "id": "dab2f365-dc13-4181-82fa-f9637302bc04",
   "metadata": {},
   "outputs": [
    {
     "data": {
      "text/html": [
       "<div>\n",
       "<style scoped>\n",
       "    .dataframe tbody tr th:only-of-type {\n",
       "        vertical-align: middle;\n",
       "    }\n",
       "\n",
       "    .dataframe tbody tr th {\n",
       "        vertical-align: top;\n",
       "    }\n",
       "\n",
       "    .dataframe thead th {\n",
       "        text-align: right;\n",
       "    }\n",
       "</style>\n",
       "<table border=\"1\" class=\"dataframe\">\n",
       "  <thead>\n",
       "    <tr style=\"text-align: right;\">\n",
       "      <th></th>\n",
       "      <th>Pan_Numbers</th>\n",
       "    </tr>\n",
       "  </thead>\n",
       "  <tbody>\n",
       "  </tbody>\n",
       "</table>\n",
       "</div>"
      ],
      "text/plain": [
       "Empty DataFrame\n",
       "Columns: [Pan_Numbers]\n",
       "Index: []"
      ]
     },
     "execution_count": 25,
     "metadata": {},
     "output_type": "execute_result"
    }
   ],
   "source": [
    "df[df['Pan_Numbers'] == '']"
   ]
  },
  {
   "cell_type": "code",
   "execution_count": 27,
   "id": "d2562179-a324-4553-9168-61df825c4177",
   "metadata": {},
   "outputs": [
    {
     "data": {
      "text/plain": [
       "967"
      ]
     },
     "execution_count": 27,
     "metadata": {},
     "output_type": "execute_result"
    }
   ],
   "source": [
    "df['Pan_Numbers'].isna().sum()"
   ]
  },
  {
   "cell_type": "code",
   "execution_count": 29,
   "id": "1f7731fe-9213-43cb-bc99-ab14593e1f91",
   "metadata": {},
   "outputs": [],
   "source": [
    "df = df.dropna(subset = 'Pan_Numbers')"
   ]
  },
  {
   "cell_type": "code",
   "execution_count": 31,
   "id": "2abf2f7d-2190-444d-83c0-fef7fe1414b0",
   "metadata": {},
   "outputs": [
    {
     "data": {
      "text/plain": [
       "(9033, 1)"
      ]
     },
     "execution_count": 31,
     "metadata": {},
     "output_type": "execute_result"
    }
   ],
   "source": [
    "df.shape"
   ]
  },
  {
   "cell_type": "code",
   "execution_count": 33,
   "id": "28bf19d3-9e0a-4419-8aab-5150206862cc",
   "metadata": {},
   "outputs": [
    {
     "data": {
      "text/plain": [
       "9025"
      ]
     },
     "execution_count": 33,
     "metadata": {},
     "output_type": "execute_result"
    }
   ],
   "source": [
    "df['Pan_Numbers'].nunique()"
   ]
  },
  {
   "cell_type": "code",
   "execution_count": 35,
   "id": "79b51412-ff5f-4a42-b816-8ccd35540b3f",
   "metadata": {},
   "outputs": [],
   "source": [
    "df = df.drop_duplicates(subset = 'Pan_Numbers', keep = 'first')"
   ]
  },
  {
   "cell_type": "code",
   "execution_count": 37,
   "id": "de1b503e-d516-47bb-bb63-153c46afd5e8",
   "metadata": {},
   "outputs": [
    {
     "data": {
      "text/plain": [
       "0"
      ]
     },
     "execution_count": 37,
     "metadata": {},
     "output_type": "execute_result"
    }
   ],
   "source": [
    "df.duplicated().sum()"
   ]
  },
  {
   "cell_type": "code",
   "execution_count": 39,
   "id": "3abf1df5-e89f-4b94-82a9-18e7b6cc36ed",
   "metadata": {},
   "outputs": [],
   "source": [
    "# Data Validation"
   ]
  },
  {
   "cell_type": "code",
   "execution_count": 43,
   "id": "d53dc2e5-be52-403f-ab8f-ff89f83d659d",
   "metadata": {},
   "outputs": [],
   "source": [
    "def has_adjacent_repetition(pan):\n",
    "    for i in range(len(pan) - 1):\n",
    "        if pan[i] == pan[i + 1]:\n",
    "            return True\n",
    "    return False\n",
    "\n",
    "def is_sequential(pan):\n",
    "    for i in range(len(pan)-1):\n",
    "        if ord(pan[i + 1]) - ord(pan[i]) != 1:\n",
    "            return False\n",
    "    return True\n",
    "\n",
    "def is_valid_pan(pan):\n",
    "    if len(pan) != 10:\n",
    "        return False\n",
    "\n",
    "    if not re.match(r'^[A-Z]{5}[0-9]{4}[A-Z]$', pan):\n",
    "        return False\n",
    "\n",
    "    if has_adjacent_repetition(pan):\n",
    "        return False\n",
    "\n",
    "    if is_sequential(pan[:5]):\n",
    "        return False\n",
    "\n",
    "    if is_sequential(pan[5:9]):\n",
    "        return False\n",
    "\n",
    "    return True\n",
    "\n",
    "df['Status'] = df['Pan_Numbers'].apply(lambda x: 'Valid' if is_valid_pan(x) else 'Invalid')"
   ]
  },
  {
   "cell_type": "code",
   "execution_count": 45,
   "id": "33675838-bc5b-48eb-b066-18782574d89c",
   "metadata": {},
   "outputs": [
    {
     "data": {
      "text/html": [
       "<div>\n",
       "<style scoped>\n",
       "    .dataframe tbody tr th:only-of-type {\n",
       "        vertical-align: middle;\n",
       "    }\n",
       "\n",
       "    .dataframe tbody tr th {\n",
       "        vertical-align: top;\n",
       "    }\n",
       "\n",
       "    .dataframe thead th {\n",
       "        text-align: right;\n",
       "    }\n",
       "</style>\n",
       "<table border=\"1\" class=\"dataframe\">\n",
       "  <thead>\n",
       "    <tr style=\"text-align: right;\">\n",
       "      <th></th>\n",
       "      <th>Pan_Numbers</th>\n",
       "      <th>Status</th>\n",
       "    </tr>\n",
       "  </thead>\n",
       "  <tbody>\n",
       "    <tr>\n",
       "      <th>0</th>\n",
       "      <td>VGLOD3180G</td>\n",
       "      <td>Valid</td>\n",
       "    </tr>\n",
       "    <tr>\n",
       "      <th>1</th>\n",
       "      <td>PHOXD7232L</td>\n",
       "      <td>Valid</td>\n",
       "    </tr>\n",
       "    <tr>\n",
       "      <th>2</th>\n",
       "      <td>MGEPH6532A</td>\n",
       "      <td>Valid</td>\n",
       "    </tr>\n",
       "    <tr>\n",
       "      <th>3</th>\n",
       "      <td>JJCHK4574O</td>\n",
       "      <td>Invalid</td>\n",
       "    </tr>\n",
       "    <tr>\n",
       "      <th>4</th>\n",
       "      <td>XTQIJ2330L</td>\n",
       "      <td>Invalid</td>\n",
       "    </tr>\n",
       "  </tbody>\n",
       "</table>\n",
       "</div>"
      ],
      "text/plain": [
       "  Pan_Numbers   Status\n",
       "0  VGLOD3180G    Valid\n",
       "1  PHOXD7232L    Valid\n",
       "2  MGEPH6532A    Valid\n",
       "3  JJCHK4574O  Invalid\n",
       "4  XTQIJ2330L  Invalid"
      ]
     },
     "execution_count": 45,
     "metadata": {},
     "output_type": "execute_result"
    }
   ],
   "source": [
    "df.head()"
   ]
  },
  {
   "cell_type": "code",
   "execution_count": 47,
   "id": "8d8f472a-34c9-4f1c-bf5c-8c3a07e2d655",
   "metadata": {},
   "outputs": [
    {
     "name": "stdout",
     "output_type": "stream",
     "text": [
      "10000\n",
      "3186\n",
      "5839\n",
      "975\n"
     ]
    }
   ],
   "source": [
    "valid_cnt = (df['Status'] == 'Valid').sum()\n",
    "Invalid_cnt = (df['Status'] == 'Invalid').sum()\n",
    "missing_cnt = total_records - (valid_cnt + Invalid_cnt)\n",
    "\n",
    "print(total_records)\n",
    "print(valid_cnt)\n",
    "print(Invalid_cnt)\n",
    "print(missing_cnt)"
   ]
  },
  {
   "cell_type": "code",
   "execution_count": 49,
   "id": "1d45c747-c9c9-4ea6-8f12-727a97fcc53e",
   "metadata": {},
   "outputs": [],
   "source": [
    "df_summary = pd.DataFrame({\n",
    "    'Total Processed Records':[total_records],\n",
    "    'Total Valid PAN':[valid_cnt],\n",
    "    'Total Invalid PAN':[Invalid_cnt],\n",
    "    'Total Missing PAN':[missing_cnt]\n",
    "})"
   ]
  },
  {
   "cell_type": "code",
   "execution_count": 51,
   "id": "75e3fd49-cf34-45bb-8a3f-b5295aa9abee",
   "metadata": {},
   "outputs": [],
   "source": [
    "with pd.ExcelWriter('PAN Validation Result.xlsx') as writer:\n",
    "    df.to_excel(writer, sheet_name = 'PAN Validations', index = False)\n",
    "    df_summary.to_excel(writer, sheet_name = 'Summary', index = False)"
   ]
  },
  {
   "cell_type": "code",
   "execution_count": null,
   "id": "6952f2a7-3dc2-44e9-a590-d8b49e5c2581",
   "metadata": {},
   "outputs": [],
   "source": []
  }
 ],
 "metadata": {
  "kernelspec": {
   "display_name": "Python 3 (ipykernel)",
   "language": "python",
   "name": "python3"
  },
  "language_info": {
   "codemirror_mode": {
    "name": "ipython",
    "version": 3
   },
   "file_extension": ".py",
   "mimetype": "text/x-python",
   "name": "python",
   "nbconvert_exporter": "python",
   "pygments_lexer": "ipython3",
   "version": "3.12.4"
  }
 },
 "nbformat": 4,
 "nbformat_minor": 5
}
